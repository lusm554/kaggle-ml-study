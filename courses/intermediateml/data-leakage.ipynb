{
 "cells": [
  {
   "cell_type": "markdown",
   "id": "9b85baf0",
   "metadata": {},
   "source": [
    "# Introduction\n",
    "\n",
    "<b> Data leakage</b> (or <b>leakage</b>) happens when your training data contains information about the target, but similar data will not be available when the model is used for prediction. This leads to high performance on the training set (and possibly even the validation data), but the model will perform poorly in production.\n",
    "\n",
    "In other words, leakage causes a model to look accurate until you start making decisions with the model, and then the model becomes very inaccurate.\n",
    "\n",
    "There are two main types of leakage: <b>target leakage</b> and <b>train-test contamination</b>."
   ]
  },
  {
   "cell_type": "markdown",
   "id": "2b4f1a99",
   "metadata": {},
   "source": [
    "## Target leakage\n",
    "\n",
    "<b>Target leakage</b> occurs when your predictors include data that will not be available at the time you make predictions. It is important to think about target leakage in terms of the timing or chronological order that data becomes available, not merely whether a feature helps make good predictions.\n",
    "\n",
    "An example will be helpful. Imagine you want to predict who will get sick with pneumonia. The top few rows of your raw data look like this:\n",
    "\n",
    "|got_pneumonia | age | weight | male | took_antibiotic_medicine | ... |\n",
    "| ------------ | --- | ------ | ---- | ------------------------ | --- |\n",
    "|False | 65 | 100 | False | False | ... |\n",
    "|False | 72 | 130 | True | False | ... |\n",
    "|True | 58 | 100 | False | True | ... |\n",
    "\n",
    "\n",
    "People take antibiotic medicines after getting pneumonia in order to recover. The raw data shows a strong relationship between those columns, but `took_antibiotic_medicine` is frequently changed after the value for `got_pneumonia` is determined. This is target leakage.\n",
    "\n",
    "The model would see that anyone who has a value of `False` for `took_antibiotic_medicine` didn't have pneumonia. Since validation data comes from the same source as training data, the pattern will repeat itself in validation, and the model will have great validation (or cross-validation) scores.\n",
    "\n",
    "But the model will be very inaccurate when subsequently deployed in the real world, because even patients who will get pneumonia won't have received antibiotics yet when we need to make predictions about their future health.\n",
    "\n",
    "To prevent this type of data leakage, any variable updated (or created) after the target value is realized should be excluded.\n",
    "![alt](https://storage.googleapis.com/kaggle-media/learn/images/y7hfTYe.png)"
   ]
  },
  {
   "cell_type": "markdown",
   "id": "7bf463c8",
   "metadata": {},
   "source": [
    "## Train-Test Contamination\n",
    "\n",
    "A different type of leak occurs when you aren't careful to distinguish training data from validation data.\n",
    "\n",
    "Recall that validation is meant to be a measure of how the model does on data that it hasn't considered before. You can corrupt this process in subtle ways if the validation data affects the preprocessing behavior. This is sometimes called <b>train-test contamination</b>.\n",
    "\n",
    "For example, imagine you run preprocessing (like fitting an imputer for missing values) before calling `train_test_split()`. The end result? Your model may get good validation scores, giving you great confidence in it, but perform poorly when you deploy it to make decisions.\n",
    "\n",
    "After all, you incorporated data from the validation or test data into how you make predictions, so the may do well on that particular data even if it can't generalize to new data. This problem becomes even more subtle (and more dangerous) when you do more complex feature engineering.\n",
    "\n",
    "If your validation is based on a simple train-test split, exclude the validation data from any type of fitting, including the fitting of preprocessing steps. This is easier if you use scikit-learn pipelines. When using cross-validation, it's even more critical that you do your preprocessing inside the pipeline!"
   ]
  },
  {
   "cell_type": "markdown",
   "id": "f453a493",
   "metadata": {},
   "source": [
    "We will use a dataset about credit card applications and skip the basic data set-up code. The end result is that information about each credit card application is stored in a DataFrame `X`. We'll use it to predict which applications were accepted in a Series `y`."
   ]
  },
  {
   "cell_type": "code",
   "execution_count": 12,
   "id": "b15faa61",
   "metadata": {},
   "outputs": [
    {
     "data": {
      "text/plain": [
       "(1319, 11)"
      ]
     },
     "execution_count": 12,
     "metadata": {},
     "output_type": "execute_result"
    }
   ],
   "source": [
    "import pandas as pd\n",
    "\n",
    "data = pd.read_csv('../../data/AER_credit_card_data.csv', true_values=['yes'], false_values=['no'])\n",
    "\n",
    "# target\n",
    "y = data.card\n",
    "\n",
    "# predictors\n",
    "X = data.drop(['card'], axis=1)\n",
    "\n",
    "X.shape"
   ]
  },
  {
   "cell_type": "markdown",
   "id": "dd16a28e",
   "metadata": {},
   "source": [
    "Since this is a small dataset, we will use cross-validation to ensure accurate measures of model quality."
   ]
  },
  {
   "cell_type": "code",
   "execution_count": 18,
   "id": "ef6eb080",
   "metadata": {},
   "outputs": [
    {
     "name": "stdout",
     "output_type": "stream",
     "text": [
      "Cross-validation accuracy: 0.981810\n",
      "CPU times: user 357 ms, sys: 6.67 ms, total: 364 ms\n",
      "Wall time: 367 ms\n"
     ]
    }
   ],
   "source": [
    "%%time\n",
    "\n",
    "from sklearn.pipeline import make_pipeline\n",
    "from sklearn.ensemble import RandomForestClassifier\n",
    "from sklearn.model_selection import cross_val_score\n",
    "\n",
    "# Since there is no preprocessing, we don't need a pipeline (used anyway as best practice!)\n",
    "pipeline = make_pipeline(RandomForestClassifier(n_estimators=100))\n",
    "cv_scores = cross_val_score(pipeline, X, y, cv=5, scoring='accuracy')\n",
    "\n",
    "print(\"Cross-validation accuracy: %f\" % cv_scores.mean())"
   ]
  },
  {
   "cell_type": "markdown",
   "id": "d2f99b14",
   "metadata": {},
   "source": [
    "With experience, you'll find that it's very rare to find models that are accurate 98% of the time. It happens, but it's uncommon enough that we should inspect the data more closely for target leakage.\n",
    "\n",
    "Here is a summary of the data, which you can also find under the data tab:\n",
    "\n",
    "- card: 1 if credit card application accepted, 0 if not\n",
    "- reports: Number of major derogatory reports\n",
    "- age: Age n years plus twelfths of a year\n",
    "- income: Yearly income (divided by 10,000)\n",
    "- share: Ratio of monthly credit card expenditure to yearly income\n",
    "- expenditure: Average monthly credit card expenditure\n",
    "- owner: 1 if owns home, 0 if rents\n",
    "- selfempl: 1 if self-employed, 0 if not\n",
    "- dependents: 1 + number of dependents\n",
    "- months: Months living at current address\n",
    "- majorcards: Number of major credit cards held\n",
    "- active: Number of active credit accounts\n",
    "\n",
    "\n",
    "A few variables look suspicious. For example, does expenditure mean expenditure on this card or on cards used before applying?\n",
    "\n",
    "At this point, basic data comparisons can be very helpful:"
   ]
  },
  {
   "cell_type": "code",
   "execution_count": 19,
   "id": "d693914c",
   "metadata": {},
   "outputs": [
    {
     "name": "stdout",
     "output_type": "stream",
     "text": [
      "Fraction of those who did not receive a card and had no expenditures: 1.00\n",
      "Fraction of those who received a card and had no expenditures: 0.02\n"
     ]
    }
   ],
   "source": [
    "expenditures_cardholders = X.expenditure[y]\n",
    "expenditures_noncardholders = X.expenditure[~y]\n",
    "\n",
    "print('Fraction of those who did not receive a card and had no expenditures: %.2f' \\\n",
    "      %((expenditures_noncardholders == 0).mean()))\n",
    "print('Fraction of those who received a card and had no expenditures: %.2f' \\\n",
    "      %(( expenditures_cardholders == 0).mean()))"
   ]
  },
  {
   "cell_type": "markdown",
   "id": "33db48b1",
   "metadata": {},
   "source": [
    "As shown above, everyone who did not receive a card had no expenditures, while only 2% of those who received a card had no expenditures. It's not surprising that our model appeared to have a high accuracy. But this also seems to be a case of target leakage, where expenditures probably means expenditures on the card they applied for.\n",
    "\n",
    "Since `share` is partially determined by `expenditure`, it should be excluded too. The variables `active` and `majorcards` are a little less clear, but from the description, they sound concerning. In most situations, it's better to be safe than sorry if you can't track down the people who created the data to find out more.\n",
    "\n",
    "We would run a model without target leakage as follows:"
   ]
  },
  {
   "cell_type": "code",
   "execution_count": 20,
   "id": "74d264d8",
   "metadata": {},
   "outputs": [
    {
     "name": "stdout",
     "output_type": "stream",
     "text": [
      "Cross-val accuracy: 0.829401\n"
     ]
    }
   ],
   "source": [
    "# drop some bad predictors\n",
    "potential_leaks = ['expenditure', 'share', 'active', 'majorcards']\n",
    "X2 = X.drop(potential_leaks, axis=1)\n",
    "\n",
    "# Evaluate the model with leaky predictors removed\n",
    "cv_scores = cross_val_score(pipeline, X2, y, cv=5, scoring='accuracy')\n",
    "\n",
    "print(\"Cross-val accuracy: %f\" % cv_scores.mean())"
   ]
  },
  {
   "cell_type": "markdown",
   "id": "21176e0c",
   "metadata": {},
   "source": [
    "This accuracy is quite a bit lower, which might be disappointing. However, we can expect it to be right about 80% of the time when used on new applications, whereas the leaky model would likely do much worse than that (in spite of its higher apparent score in cross-validation)."
   ]
  },
  {
   "cell_type": "markdown",
   "id": "86379caa",
   "metadata": {},
   "source": [
    "# Conclusion\n",
    "\n",
    "Data leakage can be multi-million dollar mistake in many data science applications. Careful separation of training and validation data can prevent train-test contamination, and pipelines can help implement this separation. Likewise, a combination of caution, common sense, and data exploration can help identify target leakage."
   ]
  }
 ],
 "metadata": {
  "kernelspec": {
   "display_name": ".venv",
   "language": "python",
   "name": ".venv"
  },
  "language_info": {
   "codemirror_mode": {
    "name": "ipython",
    "version": 3
   },
   "file_extension": ".py",
   "mimetype": "text/x-python",
   "name": "python",
   "nbconvert_exporter": "python",
   "pygments_lexer": "ipython3",
   "version": "3.10.10"
  }
 },
 "nbformat": 4,
 "nbformat_minor": 5
}
