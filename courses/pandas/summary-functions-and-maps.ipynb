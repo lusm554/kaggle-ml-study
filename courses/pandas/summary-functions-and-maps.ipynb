{
 "cells": [
  {
   "cell_type": "markdown",
   "id": "7a5228fe",
   "metadata": {},
   "source": [
    "# Introduction\n",
    "\n",
    "The data does not always come out of memory in the format we want it in right out of the bat. Sometimes we have to do some more work ourselves to reformat it for the task at hand. This tutorial will cover different operations we can apply to our data to get the input \"just right\"."
   ]
  },
  {
   "cell_type": "code",
   "execution_count": 1,
   "id": "a1ec6d29",
   "metadata": {},
   "outputs": [],
   "source": [
    "import pandas as pd\n",
    "import numpy as np\n",
    "pd.set_option('display.max_rows', 5)\n",
    "reviews = pd.read_csv('../../data/winemag-data-130k-v2.csv')"
   ]
  },
  {
   "cell_type": "code",
   "execution_count": 2,
   "id": "60975304",
   "metadata": {},
   "outputs": [
    {
     "data": {
      "text/html": [
       "<div>\n",
       "<style scoped>\n",
       "    .dataframe tbody tr th:only-of-type {\n",
       "        vertical-align: middle;\n",
       "    }\n",
       "\n",
       "    .dataframe tbody tr th {\n",
       "        vertical-align: top;\n",
       "    }\n",
       "\n",
       "    .dataframe thead th {\n",
       "        text-align: right;\n",
       "    }\n",
       "</style>\n",
       "<table border=\"1\" class=\"dataframe\">\n",
       "  <thead>\n",
       "    <tr style=\"text-align: right;\">\n",
       "      <th></th>\n",
       "      <th>Unnamed: 0</th>\n",
       "      <th>country</th>\n",
       "      <th>description</th>\n",
       "      <th>designation</th>\n",
       "      <th>points</th>\n",
       "      <th>price</th>\n",
       "      <th>province</th>\n",
       "      <th>region_1</th>\n",
       "      <th>region_2</th>\n",
       "      <th>taster_name</th>\n",
       "      <th>taster_twitter_handle</th>\n",
       "      <th>title</th>\n",
       "      <th>variety</th>\n",
       "      <th>winery</th>\n",
       "    </tr>\n",
       "  </thead>\n",
       "  <tbody>\n",
       "    <tr>\n",
       "      <th>0</th>\n",
       "      <td>0</td>\n",
       "      <td>Italy</td>\n",
       "      <td>Aromas include tropical fruit, broom, brimston...</td>\n",
       "      <td>Vulkà Bianco</td>\n",
       "      <td>87</td>\n",
       "      <td>NaN</td>\n",
       "      <td>Sicily &amp; Sardinia</td>\n",
       "      <td>Etna</td>\n",
       "      <td>NaN</td>\n",
       "      <td>Kerin O’Keefe</td>\n",
       "      <td>@kerinokeefe</td>\n",
       "      <td>Nicosia 2013 Vulkà Bianco  (Etna)</td>\n",
       "      <td>White Blend</td>\n",
       "      <td>Nicosia</td>\n",
       "    </tr>\n",
       "    <tr>\n",
       "      <th>1</th>\n",
       "      <td>1</td>\n",
       "      <td>Portugal</td>\n",
       "      <td>This is ripe and fruity, a wine that is smooth...</td>\n",
       "      <td>Avidagos</td>\n",
       "      <td>87</td>\n",
       "      <td>15.0</td>\n",
       "      <td>Douro</td>\n",
       "      <td>NaN</td>\n",
       "      <td>NaN</td>\n",
       "      <td>Roger Voss</td>\n",
       "      <td>@vossroger</td>\n",
       "      <td>Quinta dos Avidagos 2011 Avidagos Red (Douro)</td>\n",
       "      <td>Portuguese Red</td>\n",
       "      <td>Quinta dos Avidagos</td>\n",
       "    </tr>\n",
       "    <tr>\n",
       "      <th>...</th>\n",
       "      <td>...</td>\n",
       "      <td>...</td>\n",
       "      <td>...</td>\n",
       "      <td>...</td>\n",
       "      <td>...</td>\n",
       "      <td>...</td>\n",
       "      <td>...</td>\n",
       "      <td>...</td>\n",
       "      <td>...</td>\n",
       "      <td>...</td>\n",
       "      <td>...</td>\n",
       "      <td>...</td>\n",
       "      <td>...</td>\n",
       "      <td>...</td>\n",
       "    </tr>\n",
       "    <tr>\n",
       "      <th>129969</th>\n",
       "      <td>129969</td>\n",
       "      <td>France</td>\n",
       "      <td>A dry style of Pinot Gris, this is crisp with ...</td>\n",
       "      <td>NaN</td>\n",
       "      <td>90</td>\n",
       "      <td>32.0</td>\n",
       "      <td>Alsace</td>\n",
       "      <td>Alsace</td>\n",
       "      <td>NaN</td>\n",
       "      <td>Roger Voss</td>\n",
       "      <td>@vossroger</td>\n",
       "      <td>Domaine Marcel Deiss 2012 Pinot Gris (Alsace)</td>\n",
       "      <td>Pinot Gris</td>\n",
       "      <td>Domaine Marcel Deiss</td>\n",
       "    </tr>\n",
       "    <tr>\n",
       "      <th>129970</th>\n",
       "      <td>129970</td>\n",
       "      <td>France</td>\n",
       "      <td>Big, rich and off-dry, this is powered by inte...</td>\n",
       "      <td>Lieu-dit Harth Cuvée Caroline</td>\n",
       "      <td>90</td>\n",
       "      <td>21.0</td>\n",
       "      <td>Alsace</td>\n",
       "      <td>Alsace</td>\n",
       "      <td>NaN</td>\n",
       "      <td>Roger Voss</td>\n",
       "      <td>@vossroger</td>\n",
       "      <td>Domaine Schoffit 2012 Lieu-dit Harth Cuvée Car...</td>\n",
       "      <td>Gewürztraminer</td>\n",
       "      <td>Domaine Schoffit</td>\n",
       "    </tr>\n",
       "  </tbody>\n",
       "</table>\n",
       "<p>129971 rows × 14 columns</p>\n",
       "</div>"
      ],
      "text/plain": [
       "        Unnamed: 0   country  \\\n",
       "0                0     Italy   \n",
       "1                1  Portugal   \n",
       "...            ...       ...   \n",
       "129969      129969    France   \n",
       "129970      129970    France   \n",
       "\n",
       "                                              description  \\\n",
       "0       Aromas include tropical fruit, broom, brimston...   \n",
       "1       This is ripe and fruity, a wine that is smooth...   \n",
       "...                                                   ...   \n",
       "129969  A dry style of Pinot Gris, this is crisp with ...   \n",
       "129970  Big, rich and off-dry, this is powered by inte...   \n",
       "\n",
       "                          designation  points  price           province  \\\n",
       "0                        Vulkà Bianco      87    NaN  Sicily & Sardinia   \n",
       "1                            Avidagos      87   15.0              Douro   \n",
       "...                               ...     ...    ...                ...   \n",
       "129969                            NaN      90   32.0             Alsace   \n",
       "129970  Lieu-dit Harth Cuvée Caroline      90   21.0             Alsace   \n",
       "\n",
       "       region_1 region_2    taster_name taster_twitter_handle  \\\n",
       "0          Etna      NaN  Kerin O’Keefe          @kerinokeefe   \n",
       "1           NaN      NaN     Roger Voss            @vossroger   \n",
       "...         ...      ...            ...                   ...   \n",
       "129969   Alsace      NaN     Roger Voss            @vossroger   \n",
       "129970   Alsace      NaN     Roger Voss            @vossroger   \n",
       "\n",
       "                                                    title         variety  \\\n",
       "0                       Nicosia 2013 Vulkà Bianco  (Etna)     White Blend   \n",
       "1           Quinta dos Avidagos 2011 Avidagos Red (Douro)  Portuguese Red   \n",
       "...                                                   ...             ...   \n",
       "129969      Domaine Marcel Deiss 2012 Pinot Gris (Alsace)      Pinot Gris   \n",
       "129970  Domaine Schoffit 2012 Lieu-dit Harth Cuvée Car...  Gewürztraminer   \n",
       "\n",
       "                      winery  \n",
       "0                    Nicosia  \n",
       "1        Quinta dos Avidagos  \n",
       "...                      ...  \n",
       "129969  Domaine Marcel Deiss  \n",
       "129970      Domaine Schoffit  \n",
       "\n",
       "[129971 rows x 14 columns]"
      ]
     },
     "execution_count": 2,
     "metadata": {},
     "output_type": "execute_result"
    }
   ],
   "source": [
    "reviews"
   ]
  },
  {
   "cell_type": "markdown",
   "id": "b0bd42c5",
   "metadata": {},
   "source": [
    "# Summary functions\n",
    "\n",
    "Pandas provides many simple \"summary functions\" (not an official name) which restructure the data in some useful way. For example, consider the describe() method:"
   ]
  },
  {
   "cell_type": "code",
   "execution_count": 3,
   "id": "9b382682",
   "metadata": {},
   "outputs": [
    {
     "data": {
      "text/plain": [
       "count    129971.000000\n",
       "mean         88.447138\n",
       "             ...      \n",
       "75%          91.000000\n",
       "max         100.000000\n",
       "Name: points, Length: 8, dtype: float64"
      ]
     },
     "execution_count": 3,
     "metadata": {},
     "output_type": "execute_result"
    }
   ],
   "source": [
    "reviews.points.describe()"
   ]
  },
  {
   "cell_type": "markdown",
   "id": "f036c7e4",
   "metadata": {},
   "source": [
    "This method generates a high-level summary of the attributes of the given column. It is type-aware, meaning that its output changes based on the data type of the input. The output above only makes sense for numerical data; for string data here's what we get:"
   ]
  },
  {
   "cell_type": "code",
   "execution_count": 4,
   "id": "f2b8baa5",
   "metadata": {},
   "outputs": [
    {
     "data": {
      "text/plain": [
       "count         103727\n",
       "unique            19\n",
       "top       Roger Voss\n",
       "freq           25514\n",
       "Name: taster_name, dtype: object"
      ]
     },
     "execution_count": 4,
     "metadata": {},
     "output_type": "execute_result"
    }
   ],
   "source": [
    "reviews.taster_name.describe()"
   ]
  },
  {
   "cell_type": "markdown",
   "id": "0722e852",
   "metadata": {},
   "source": [
    "If you want to get some particular simple summary statistic about a column in a DataFrame or a Series, there is usually a helpful pandas function that makes it happen.\n",
    "\n",
    "For example, to see the mean of the points allotted (e.g. how well an averagely rated wine does), we can use the `mean()` function:"
   ]
  },
  {
   "cell_type": "code",
   "execution_count": 5,
   "id": "08ee0f23",
   "metadata": {},
   "outputs": [
    {
     "data": {
      "text/plain": [
       "88.44713820775404"
      ]
     },
     "execution_count": 5,
     "metadata": {},
     "output_type": "execute_result"
    }
   ],
   "source": [
    "reviews.points.mean()"
   ]
  },
  {
   "cell_type": "markdown",
   "id": "e405f4f9",
   "metadata": {},
   "source": [
    "To see a list of unique values we can use the unique() function:"
   ]
  },
  {
   "cell_type": "code",
   "execution_count": 6,
   "id": "481e92a1",
   "metadata": {},
   "outputs": [
    {
     "data": {
      "text/plain": [
       "array(['Kerin O’Keefe', 'Roger Voss', 'Paul Gregutt',\n",
       "       'Alexander Peartree', 'Michael Schachner', 'Anna Lee C. Iijima',\n",
       "       'Virginie Boone', 'Matt Kettmann', nan, 'Sean P. Sullivan',\n",
       "       'Jim Gordon', 'Joe Czerwinski', 'Anne Krebiehl\\xa0MW',\n",
       "       'Lauren Buzzeo', 'Mike DeSimone', 'Jeff Jenssen',\n",
       "       'Susan Kostrzewa', 'Carrie Dykes', 'Fiona Adams',\n",
       "       'Christina Pickard'], dtype=object)"
      ]
     },
     "execution_count": 6,
     "metadata": {},
     "output_type": "execute_result"
    }
   ],
   "source": [
    "reviews.taster_name.unique()"
   ]
  },
  {
   "cell_type": "markdown",
   "id": "97f80a90",
   "metadata": {},
   "source": [
    "To see a list of unique values and how often they occur in the dataset, we can use the value_counts() method:"
   ]
  },
  {
   "cell_type": "code",
   "execution_count": 7,
   "id": "27f1044f",
   "metadata": {},
   "outputs": [
    {
     "data": {
      "text/plain": [
       "taster_name\n",
       "Roger Voss           25514\n",
       "Michael Schachner    15134\n",
       "                     ...  \n",
       "Fiona Adams             27\n",
       "Christina Pickard        6\n",
       "Name: count, Length: 19, dtype: int64"
      ]
     },
     "execution_count": 7,
     "metadata": {},
     "output_type": "execute_result"
    }
   ],
   "source": [
    "reviews.taster_name.value_counts()"
   ]
  },
  {
   "cell_type": "markdown",
   "id": "e82e8698",
   "metadata": {},
   "source": [
    "# Maps\n",
    "\n",
    "A map is a term, borrowed from mathematics, for a function that takes one set of values and \"maps\" them to another set of values. In data science we often have a need for creating new representations from existing data, or for transforming data from the format it is in now to the format that we want it to be in later. Maps are what handle this work, making them extremely important for getting your work done!\n",
    "\n",
    "`map()` is the first, and slightly simpler one. For example, suppose that we wanted to remean the scores the wines received to 0. We can do this as follows:"
   ]
  },
  {
   "cell_type": "code",
   "execution_count": 8,
   "id": "2483924e",
   "metadata": {},
   "outputs": [
    {
     "data": {
      "text/plain": [
       "0        -1.447138\n",
       "1        -1.447138\n",
       "            ...   \n",
       "129969    1.552862\n",
       "129970    1.552862\n",
       "Name: points, Length: 129971, dtype: float64"
      ]
     },
     "execution_count": 8,
     "metadata": {},
     "output_type": "execute_result"
    }
   ],
   "source": [
    "review_points_mean = reviews.points.mean()\n",
    "reviews.points.map(lambda p: p - review_points_mean)"
   ]
  },
  {
   "cell_type": "markdown",
   "id": "4d5c62db",
   "metadata": {},
   "source": [
    "The function you pass to `map()` should expect a single value from the Series (a point value, in the above example), and return a transformed version of that value. `map()` returns a new Series where all the values have been transformed by your function.\n",
    "\n",
    "`apply()` is the equivalent method if we want to transform a whole DataFrame by calling a custom method on each row."
   ]
  },
  {
   "cell_type": "code",
   "execution_count": 12,
   "id": "30d3a99b",
   "metadata": {},
   "outputs": [
    {
     "name": "stdout",
     "output_type": "stream",
     "text": [
      "CPU times: user 3.55 s, sys: 37.8 ms, total: 3.59 s\n",
      "Wall time: 3.6 s\n"
     ]
    },
    {
     "data": {
      "text/html": [
       "<div>\n",
       "<style scoped>\n",
       "    .dataframe tbody tr th:only-of-type {\n",
       "        vertical-align: middle;\n",
       "    }\n",
       "\n",
       "    .dataframe tbody tr th {\n",
       "        vertical-align: top;\n",
       "    }\n",
       "\n",
       "    .dataframe thead th {\n",
       "        text-align: right;\n",
       "    }\n",
       "</style>\n",
       "<table border=\"1\" class=\"dataframe\">\n",
       "  <thead>\n",
       "    <tr style=\"text-align: right;\">\n",
       "      <th></th>\n",
       "      <th>Unnamed: 0</th>\n",
       "      <th>country</th>\n",
       "      <th>description</th>\n",
       "      <th>designation</th>\n",
       "      <th>points</th>\n",
       "      <th>price</th>\n",
       "      <th>province</th>\n",
       "      <th>region_1</th>\n",
       "      <th>region_2</th>\n",
       "      <th>taster_name</th>\n",
       "      <th>taster_twitter_handle</th>\n",
       "      <th>title</th>\n",
       "      <th>variety</th>\n",
       "      <th>winery</th>\n",
       "    </tr>\n",
       "  </thead>\n",
       "  <tbody>\n",
       "    <tr>\n",
       "      <th>0</th>\n",
       "      <td>0</td>\n",
       "      <td>Italy</td>\n",
       "      <td>Aromas include tropical fruit, broom, brimston...</td>\n",
       "      <td>Vulkà Bianco</td>\n",
       "      <td>-1.447138</td>\n",
       "      <td>NaN</td>\n",
       "      <td>Sicily &amp; Sardinia</td>\n",
       "      <td>Etna</td>\n",
       "      <td>NaN</td>\n",
       "      <td>Kerin O’Keefe</td>\n",
       "      <td>@kerinokeefe</td>\n",
       "      <td>Nicosia 2013 Vulkà Bianco  (Etna)</td>\n",
       "      <td>White Blend</td>\n",
       "      <td>Nicosia</td>\n",
       "    </tr>\n",
       "    <tr>\n",
       "      <th>1</th>\n",
       "      <td>1</td>\n",
       "      <td>Portugal</td>\n",
       "      <td>This is ripe and fruity, a wine that is smooth...</td>\n",
       "      <td>Avidagos</td>\n",
       "      <td>-1.447138</td>\n",
       "      <td>15.0</td>\n",
       "      <td>Douro</td>\n",
       "      <td>NaN</td>\n",
       "      <td>NaN</td>\n",
       "      <td>Roger Voss</td>\n",
       "      <td>@vossroger</td>\n",
       "      <td>Quinta dos Avidagos 2011 Avidagos Red (Douro)</td>\n",
       "      <td>Portuguese Red</td>\n",
       "      <td>Quinta dos Avidagos</td>\n",
       "    </tr>\n",
       "    <tr>\n",
       "      <th>...</th>\n",
       "      <td>...</td>\n",
       "      <td>...</td>\n",
       "      <td>...</td>\n",
       "      <td>...</td>\n",
       "      <td>...</td>\n",
       "      <td>...</td>\n",
       "      <td>...</td>\n",
       "      <td>...</td>\n",
       "      <td>...</td>\n",
       "      <td>...</td>\n",
       "      <td>...</td>\n",
       "      <td>...</td>\n",
       "      <td>...</td>\n",
       "      <td>...</td>\n",
       "    </tr>\n",
       "    <tr>\n",
       "      <th>129969</th>\n",
       "      <td>129969</td>\n",
       "      <td>France</td>\n",
       "      <td>A dry style of Pinot Gris, this is crisp with ...</td>\n",
       "      <td>NaN</td>\n",
       "      <td>1.552862</td>\n",
       "      <td>32.0</td>\n",
       "      <td>Alsace</td>\n",
       "      <td>Alsace</td>\n",
       "      <td>NaN</td>\n",
       "      <td>Roger Voss</td>\n",
       "      <td>@vossroger</td>\n",
       "      <td>Domaine Marcel Deiss 2012 Pinot Gris (Alsace)</td>\n",
       "      <td>Pinot Gris</td>\n",
       "      <td>Domaine Marcel Deiss</td>\n",
       "    </tr>\n",
       "    <tr>\n",
       "      <th>129970</th>\n",
       "      <td>129970</td>\n",
       "      <td>France</td>\n",
       "      <td>Big, rich and off-dry, this is powered by inte...</td>\n",
       "      <td>Lieu-dit Harth Cuvée Caroline</td>\n",
       "      <td>1.552862</td>\n",
       "      <td>21.0</td>\n",
       "      <td>Alsace</td>\n",
       "      <td>Alsace</td>\n",
       "      <td>NaN</td>\n",
       "      <td>Roger Voss</td>\n",
       "      <td>@vossroger</td>\n",
       "      <td>Domaine Schoffit 2012 Lieu-dit Harth Cuvée Car...</td>\n",
       "      <td>Gewürztraminer</td>\n",
       "      <td>Domaine Schoffit</td>\n",
       "    </tr>\n",
       "  </tbody>\n",
       "</table>\n",
       "<p>129971 rows × 14 columns</p>\n",
       "</div>"
      ],
      "text/plain": [
       "        Unnamed: 0   country  \\\n",
       "0                0     Italy   \n",
       "1                1  Portugal   \n",
       "...            ...       ...   \n",
       "129969      129969    France   \n",
       "129970      129970    France   \n",
       "\n",
       "                                              description  \\\n",
       "0       Aromas include tropical fruit, broom, brimston...   \n",
       "1       This is ripe and fruity, a wine that is smooth...   \n",
       "...                                                   ...   \n",
       "129969  A dry style of Pinot Gris, this is crisp with ...   \n",
       "129970  Big, rich and off-dry, this is powered by inte...   \n",
       "\n",
       "                          designation    points  price           province  \\\n",
       "0                        Vulkà Bianco -1.447138    NaN  Sicily & Sardinia   \n",
       "1                            Avidagos -1.447138   15.0              Douro   \n",
       "...                               ...       ...    ...                ...   \n",
       "129969                            NaN  1.552862   32.0             Alsace   \n",
       "129970  Lieu-dit Harth Cuvée Caroline  1.552862   21.0             Alsace   \n",
       "\n",
       "       region_1 region_2    taster_name taster_twitter_handle  \\\n",
       "0          Etna      NaN  Kerin O’Keefe          @kerinokeefe   \n",
       "1           NaN      NaN     Roger Voss            @vossroger   \n",
       "...         ...      ...            ...                   ...   \n",
       "129969   Alsace      NaN     Roger Voss            @vossroger   \n",
       "129970   Alsace      NaN     Roger Voss            @vossroger   \n",
       "\n",
       "                                                    title         variety  \\\n",
       "0                       Nicosia 2013 Vulkà Bianco  (Etna)     White Blend   \n",
       "1           Quinta dos Avidagos 2011 Avidagos Red (Douro)  Portuguese Red   \n",
       "...                                                   ...             ...   \n",
       "129969      Domaine Marcel Deiss 2012 Pinot Gris (Alsace)      Pinot Gris   \n",
       "129970  Domaine Schoffit 2012 Lieu-dit Harth Cuvée Car...  Gewürztraminer   \n",
       "\n",
       "                      winery  \n",
       "0                    Nicosia  \n",
       "1        Quinta dos Avidagos  \n",
       "...                      ...  \n",
       "129969  Domaine Marcel Deiss  \n",
       "129970      Domaine Schoffit  \n",
       "\n",
       "[129971 rows x 14 columns]"
      ]
     },
     "execution_count": 12,
     "metadata": {},
     "output_type": "execute_result"
    }
   ],
   "source": [
    "%%time\n",
    "review_points_mean = reviews.points.mean()\n",
    "def remean_points(row):\n",
    "    row.points = row.points - review_points_mean\n",
    "    return row\n",
    "\n",
    "reviews.apply(remean_points, axis='columns')"
   ]
  },
  {
   "cell_type": "markdown",
   "id": "1b5b70b7",
   "metadata": {},
   "source": [
    "If we had called `reviews.apply()` with `axis='index'`, then instead of passing a function to transform each row, we would need to give a function to transform each column.\n",
    "\n",
    "Note that `map()` and `apply()` return new, transformed Series and DataFrames, respectively. They don't modify the original data they're called on. If we look at the first row of reviews, we can see that it still has its original points value."
   ]
  },
  {
   "cell_type": "code",
   "execution_count": 13,
   "id": "b9e75111",
   "metadata": {},
   "outputs": [
    {
     "data": {
      "text/html": [
       "<div>\n",
       "<style scoped>\n",
       "    .dataframe tbody tr th:only-of-type {\n",
       "        vertical-align: middle;\n",
       "    }\n",
       "\n",
       "    .dataframe tbody tr th {\n",
       "        vertical-align: top;\n",
       "    }\n",
       "\n",
       "    .dataframe thead th {\n",
       "        text-align: right;\n",
       "    }\n",
       "</style>\n",
       "<table border=\"1\" class=\"dataframe\">\n",
       "  <thead>\n",
       "    <tr style=\"text-align: right;\">\n",
       "      <th></th>\n",
       "      <th>Unnamed: 0</th>\n",
       "      <th>country</th>\n",
       "      <th>description</th>\n",
       "      <th>designation</th>\n",
       "      <th>points</th>\n",
       "      <th>price</th>\n",
       "      <th>province</th>\n",
       "      <th>region_1</th>\n",
       "      <th>region_2</th>\n",
       "      <th>taster_name</th>\n",
       "      <th>taster_twitter_handle</th>\n",
       "      <th>title</th>\n",
       "      <th>variety</th>\n",
       "      <th>winery</th>\n",
       "    </tr>\n",
       "  </thead>\n",
       "  <tbody>\n",
       "    <tr>\n",
       "      <th>0</th>\n",
       "      <td>0</td>\n",
       "      <td>Italy</td>\n",
       "      <td>Aromas include tropical fruit, broom, brimston...</td>\n",
       "      <td>Vulkà Bianco</td>\n",
       "      <td>87</td>\n",
       "      <td>NaN</td>\n",
       "      <td>Sicily &amp; Sardinia</td>\n",
       "      <td>Etna</td>\n",
       "      <td>NaN</td>\n",
       "      <td>Kerin O’Keefe</td>\n",
       "      <td>@kerinokeefe</td>\n",
       "      <td>Nicosia 2013 Vulkà Bianco  (Etna)</td>\n",
       "      <td>White Blend</td>\n",
       "      <td>Nicosia</td>\n",
       "    </tr>\n",
       "  </tbody>\n",
       "</table>\n",
       "</div>"
      ],
      "text/plain": [
       "   Unnamed: 0 country                                        description  \\\n",
       "0           0   Italy  Aromas include tropical fruit, broom, brimston...   \n",
       "\n",
       "    designation  points  price           province region_1 region_2  \\\n",
       "0  Vulkà Bianco      87    NaN  Sicily & Sardinia     Etna      NaN   \n",
       "\n",
       "     taster_name taster_twitter_handle                              title  \\\n",
       "0  Kerin O’Keefe          @kerinokeefe  Nicosia 2013 Vulkà Bianco  (Etna)   \n",
       "\n",
       "       variety   winery  \n",
       "0  White Blend  Nicosia  "
      ]
     },
     "execution_count": 13,
     "metadata": {},
     "output_type": "execute_result"
    }
   ],
   "source": [
    "reviews.head(1)"
   ]
  },
  {
   "cell_type": "markdown",
   "id": "fa937746",
   "metadata": {},
   "source": [
    "Pandas provides many common mapping operations as built-ins. For example, here's a faster way of remeaning our points column:"
   ]
  },
  {
   "cell_type": "code",
   "execution_count": 14,
   "id": "dc90bdd1",
   "metadata": {},
   "outputs": [
    {
     "data": {
      "text/plain": [
       "0        -1.447138\n",
       "1        -1.447138\n",
       "            ...   \n",
       "129969    1.552862\n",
       "129970    1.552862\n",
       "Name: points, Length: 129971, dtype: float64"
      ]
     },
     "execution_count": 14,
     "metadata": {},
     "output_type": "execute_result"
    }
   ],
   "source": [
    "review_point_mean = reviews.points.mean()\n",
    "reviews.points - review_points_mean"
   ]
  },
  {
   "cell_type": "markdown",
   "id": "cc21d2f2",
   "metadata": {},
   "source": [
    "In this code we are performing an operation between a lot of values on the left-hand side (everything in the Series) and a single value on the right-hand side (the mean value). Pandas looks at this expression and figures out that we must mean to subtract that mean value from every value in the dataset.\n",
    "\n",
    "Pandas will also understand what to do if we perform these operations between Series of equal length. For example, an easy way of combining country and region information in the dataset would be to do the following:"
   ]
  },
  {
   "cell_type": "code",
   "execution_count": 15,
   "id": "4ebd5975",
   "metadata": {},
   "outputs": [
    {
     "data": {
      "text/plain": [
       "0            Italy-Etna\n",
       "1                   NaN\n",
       "              ...      \n",
       "129969    France-Alsace\n",
       "129970    France-Alsace\n",
       "Length: 129971, dtype: object"
      ]
     },
     "execution_count": 15,
     "metadata": {},
     "output_type": "execute_result"
    }
   ],
   "source": [
    "reviews.country + \"-\" + reviews.region_1"
   ]
  },
  {
   "cell_type": "markdown",
   "id": "ffb1a50c",
   "metadata": {},
   "source": [
    "These operators are faster than map() or apply() because they use speed ups built into pandas. All of the standard Python operators (>, <, ==, and so on) work in this manner.\n",
    "\n",
    "However, they are not as flexible as map() or apply(), which can do more advanced things, like applying conditional logic, which cannot be done with addition and subtraction alone."
   ]
  }
 ],
 "metadata": {
  "kernelspec": {
   "display_name": ".venv",
   "language": "python",
   "name": ".venv"
  },
  "language_info": {
   "codemirror_mode": {
    "name": "ipython",
    "version": 3
   },
   "file_extension": ".py",
   "mimetype": "text/x-python",
   "name": "python",
   "nbconvert_exporter": "python",
   "pygments_lexer": "ipython3",
   "version": "3.10.10"
  }
 },
 "nbformat": 4,
 "nbformat_minor": 5
}
